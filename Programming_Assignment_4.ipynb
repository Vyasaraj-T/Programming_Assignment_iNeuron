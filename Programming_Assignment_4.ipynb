{
 "cells": [
  {
   "cell_type": "markdown",
   "metadata": {},
   "source": [
    "# Programming_Assignment_4\n"
   ]
  },
  {
   "cell_type": "code",
   "execution_count": 1,
   "metadata": {},
   "outputs": [
    {
     "name": "stdout",
     "output_type": "stream",
     "text": [
      "enter the number you want to find the factorial5\n",
      "120\n"
     ]
    }
   ],
   "source": [
    "#1.\tWrite a Python Program to Find the Factorial of a Number?\n",
    "n1=int(input('enter the number you want to find the factorial'))\n",
    "res=1\n",
    "for i in range(1,n1+1):\n",
    "    res=res*i\n",
    "print(res)"
   ]
  },
  {
   "cell_type": "code",
   "execution_count": 2,
   "metadata": {},
   "outputs": [
    {
     "name": "stdout",
     "output_type": "stream",
     "text": [
      "enter the number you want to find multiplication table16\n",
      "16*1= 16\n",
      "16*2= 32\n",
      "16*3= 48\n",
      "16*4= 64\n",
      "16*5= 80\n",
      "16*6= 96\n",
      "16*7= 112\n",
      "16*8= 128\n",
      "16*9= 144\n",
      "16*10= 160\n"
     ]
    }
   ],
   "source": [
    "#2.\tWrite a Python Program to Display the multiplication Table?\n",
    "n1=eval(input('enter the number you want to find multiplication table'))\n",
    "for i in range(1,11):\n",
    "    print(f'{n1}*{i}=', n1*i)"
   ]
  },
  {
   "cell_type": "code",
   "execution_count": 3,
   "metadata": {},
   "outputs": [
    {
     "name": "stdout",
     "output_type": "stream",
     "text": [
      "enter the how many numbers in the fibonacci series7\n",
      "0\n",
      "1\n",
      "1\n",
      "2\n",
      "3\n",
      "5\n",
      "8\n"
     ]
    }
   ],
   "source": [
    "#3.\tWrite a Python Program to Print the Fibonacci sequence?\n",
    "n1=eval(input('enter the how many numbers in the fibonacci series'))\n",
    "num1=0\n",
    "num2=1\n",
    "print(num1)\n",
    "print(num2)\n",
    "for i in range(1,n1-1):\n",
    "    num3=num1+num2\n",
    "    print(num3)\n",
    "    num1=num2\n",
    "    num2=num3"
   ]
  },
  {
   "cell_type": "code",
   "execution_count": 24,
   "metadata": {},
   "outputs": [
    {
     "name": "stdout",
     "output_type": "stream",
     "text": [
      "enter the number you want to check Armstrong number or not1634\n",
      "number of digits in the entered input:  4\n",
      "The RHS side of result=  1634\n",
      "Armstrong number\n"
     ]
    }
   ],
   "source": [
    "#4.\tWrite a Python Program to Check Armstrong Number?\n",
    "def countDigits(n):\n",
    "   ans = 0\n",
    "   while (n):\n",
    "      ans = ans + 1\n",
    "      n = n // 10\n",
    "   return ans\n",
    "n1=int(input('enter the number you want to check Armstrong number or not'))\n",
    "i=countDigits(n1)\n",
    "print('number of digits in the entered input: ', i)\n",
    "num=n1\n",
    "res=0\n",
    "while (n1):\n",
    "    x1=n1%10 \n",
    "    res=res+x1**i\n",
    "    n1=n1//10\n",
    "    \n",
    "res=res+n1**i\n",
    "print('The RHS side of result= ', res)\n",
    "if (num==res):\n",
    "     print('Armstrong number')\n",
    "else:\n",
    "    print('not a Armstrong')"
   ]
  },
  {
   "cell_type": "code",
   "execution_count": 29,
   "metadata": {},
   "outputs": [
    {
     "name": "stdout",
     "output_type": "stream",
     "text": [
      "enter the number starting number in the range100\n",
      "enter the number ending number in the range2000\n",
      "153\n",
      "370\n",
      "371\n",
      "407\n",
      "1634\n"
     ]
    }
   ],
   "source": [
    "#5.\tWrite a Python Program to Find Armstrong Number in an Interval?\n",
    "def countDigits(n):\n",
    "   ans = 0\n",
    "   while (n):\n",
    "      ans = ans + 1\n",
    "      n = n // 10\n",
    "   return ans\n",
    "start=int(input('enter the number starting number in the range'))\n",
    "end=int(input('enter the number ending number in the range'))\n",
    "for n1 in range(start,end):\n",
    "    i=countDigits(n1)\n",
    "    num=n1\n",
    "    res=0\n",
    "    while (n1):\n",
    "        x1=n1%10 \n",
    "        res=res+x1**i\n",
    "        n1=n1//10\n",
    "    res=res+n1**i\n",
    "    if (num==res):\n",
    "        print(num)"
   ]
  },
  {
   "cell_type": "code",
   "execution_count": 30,
   "metadata": {},
   "outputs": [
    {
     "name": "stdout",
     "output_type": "stream",
     "text": [
      "enter the natural number6\n",
      "21.0\n"
     ]
    }
   ],
   "source": [
    "#6.\tWrite a Python Program to Find the Sum of Natural Numbers?\n",
    "n=int(input('enter the natural number'))\n",
    "i=0\n",
    "sum=0\n",
    "if i<0:\n",
    "    print('enter a positive number')\n",
    "else:\n",
    "    sum=(n*(n+1))/2\n",
    "\n",
    "print(sum)"
   ]
  },
  {
   "cell_type": "code",
   "execution_count": null,
   "metadata": {},
   "outputs": [],
   "source": []
  }
 ],
 "metadata": {
  "kernelspec": {
   "display_name": "Python 3",
   "language": "python",
   "name": "python3"
  }
 },
 "nbformat": 4,
 "nbformat_minor": 2
}
